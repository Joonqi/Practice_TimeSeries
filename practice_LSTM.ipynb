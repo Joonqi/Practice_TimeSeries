{
 "cells": [
  {
   "cell_type": "code",
   "execution_count": 3,
   "id": "4aafe796",
   "metadata": {},
   "outputs": [
    {
     "name": "stdout",
     "output_type": "stream",
     "text": [
      "(1, 5, 1) (1, 1)\n"
     ]
    }
   ],
   "source": [
    "# Many to One LSTM\n",
    "\n",
    "from keras.models import Model\n",
    "from keras.layers import Input, Dense, LSTM\n",
    "import numpy as np\n",
    "\n",
    "x = np.array([[[1.], [2.], [3.], [4.], [5.]]])\n",
    "y = np.array([[6.]])\n",
    "print(x.shape, y.shape)"
   ]
  },
  {
   "cell_type": "code",
   "execution_count": 19,
   "id": "2129cd29",
   "metadata": {},
   "outputs": [
    {
     "name": "stdout",
     "output_type": "stream",
     "text": [
      "Model: \"model_2\"\n",
      "_________________________________________________________________\n",
      "Layer (type)                 Output Shape              Param #   \n",
      "=================================================================\n",
      "input_4 (InputLayer)         [(None, 5, 1)]            0         \n",
      "_________________________________________________________________\n",
      "lstm_3 (LSTM)                (None, 3)                 60        \n",
      "_________________________________________________________________\n",
      "dense_3 (Dense)              (None, 1)                 4         \n",
      "=================================================================\n",
      "Total params: 64\n",
      "Trainable params: 64\n",
      "Non-trainable params: 0\n",
      "_________________________________________________________________\n",
      "None\n"
     ]
    }
   ],
   "source": [
    "xInput = Input(batch_shape=(None, 5, 1))\n",
    "xLstm = LSTM(3)(xInput)\n",
    "xOutput = Dense(1)(xLstm)\n",
    "\n",
    "model = Model(xInput, xOutput)\n",
    "model.compile(loss='mean_squared_error', optimizer='adam')\n",
    "print(model.summary())"
   ]
  },
  {
   "cell_type": "code",
   "execution_count": 100,
   "id": "6a7aa95f",
   "metadata": {},
   "outputs": [
    {
     "data": {
      "text/plain": [
       "array([[5.9999824]], dtype=float32)"
      ]
     },
     "execution_count": 100,
     "metadata": {},
     "output_type": "execute_result"
    }
   ],
   "source": [
    "model.fit(x, y, epochs=50, batch_size=1, verbose=0)\n",
    "model.predict(x, batch_size=1)"
   ]
  },
  {
   "cell_type": "code",
   "execution_count": 101,
   "id": "b765a672",
   "metadata": {},
   "outputs": [
    {
     "name": "stdout",
     "output_type": "stream",
     "text": [
      "(1, 5, 1) (1, 5, 1)\n"
     ]
    }
   ],
   "source": [
    "# Many to Many LSTM\n",
    "\n",
    "from keras.layers import TimeDistributed\n",
    "\n",
    "x = np.array([[[1.], [2.], [3.], [4.], [5.]]])\n",
    "y = np.array([[[2.], [3.], [4.], [5.], [6.]]])\n",
    "\n",
    "print(x.shape, y.shape)"
   ]
  },
  {
   "cell_type": "code",
   "execution_count": 103,
   "id": "a13535ab",
   "metadata": {},
   "outputs": [
    {
     "name": "stdout",
     "output_type": "stream",
     "text": [
      "Model: \"model_4\"\n",
      "_________________________________________________________________\n",
      "Layer (type)                 Output Shape              Param #   \n",
      "=================================================================\n",
      "input_6 (InputLayer)         [(None, 5, 1)]            0         \n",
      "_________________________________________________________________\n",
      "lstm_5 (LSTM)                (None, 5, 3)              60        \n",
      "_________________________________________________________________\n",
      "time_distributed_1 (TimeDist (None, 5, 1)              4         \n",
      "=================================================================\n",
      "Total params: 64\n",
      "Trainable params: 64\n",
      "Non-trainable params: 0\n",
      "_________________________________________________________________\n",
      "None\n"
     ]
    }
   ],
   "source": [
    "xInput = Input(batch_shape=(None, 5, 1))\n",
    "xLstm = LSTM(3, return_sequences=True)(xInput)\n",
    "xOutput = TimeDistributed(Dense(1))(xLstm)\n",
    "\n",
    "model = Model(xInput, xOutput)\n",
    "model.compile(loss='mean_squared_error', optimizer='adam')\n",
    "print(model.summary())"
   ]
  },
  {
   "cell_type": "code",
   "execution_count": 112,
   "id": "83832d55",
   "metadata": {},
   "outputs": [
    {
     "data": {
      "text/plain": [
       "array([[[1.8879142],\n",
       "        [3.2692983],\n",
       "        [3.869036 ],\n",
       "        [4.0163   ],\n",
       "        [4.056901 ]]], dtype=float32)"
      ]
     },
     "execution_count": 112,
     "metadata": {},
     "output_type": "execute_result"
    }
   ],
   "source": [
    "model.fit(x, y, epochs=100, batch_size=1, verbose=0)\n",
    "model.predict(x, batch_size=1)"
   ]
  },
  {
   "cell_type": "code",
   "execution_count": 113,
   "id": "ecd7541f",
   "metadata": {},
   "outputs": [
    {
     "name": "stdout",
     "output_type": "stream",
     "text": [
      "Model: \"model_5\"\n",
      "_________________________________________________________________\n",
      "Layer (type)                 Output Shape              Param #   \n",
      "=================================================================\n",
      "input_7 (InputLayer)         [(None, 5, 1)]            0         \n",
      "_________________________________________________________________\n",
      "bidirectional (Bidirectional (None, 6)                 120       \n",
      "_________________________________________________________________\n",
      "dense_6 (Dense)              (None, 1)                 7         \n",
      "=================================================================\n",
      "Total params: 127\n",
      "Trainable params: 127\n",
      "Non-trainable params: 0\n",
      "_________________________________________________________________\n",
      "None\n"
     ]
    }
   ],
   "source": [
    "# Bidirectional LSTM\n",
    "\n",
    "from keras.layers import Bidirectional\n",
    "\n",
    "x = np.array([[[1.], [2.], [3.], [4.], [5.]]])\n",
    "y = np.array([[6.]])\n",
    "\n",
    "xInput = Input(batch_shape=(None, 5, 1))\n",
    "xBiLstm = Bidirectional(LSTM(3), merge_mode = 'concat')(xInput)\n",
    "xOutput = Dense(1)(xBiLstm)\n",
    "\n",
    "model = Model(xInput, xOutput)\n",
    "model.compile(loss='mean_squared_error', optimizer='adam')\n",
    "print(model.summary())"
   ]
  },
  {
   "cell_type": "code",
   "execution_count": 114,
   "id": "4e5de0f3",
   "metadata": {},
   "outputs": [
    {
     "data": {
      "text/plain": [
       "array([[0.4388827]], dtype=float32)"
      ]
     },
     "execution_count": 114,
     "metadata": {},
     "output_type": "execute_result"
    }
   ],
   "source": [
    "model.fit(x, y, epochs=100, batch_size=1, verbose=0)\n",
    "model.predict(x)"
   ]
  },
  {
   "cell_type": "code",
   "execution_count": 115,
   "id": "b6e36b95",
   "metadata": {},
   "outputs": [
    {
     "name": "stdout",
     "output_type": "stream",
     "text": [
      "Model: \"model_6\"\n",
      "_________________________________________________________________\n",
      "Layer (type)                 Output Shape              Param #   \n",
      "=================================================================\n",
      "input_8 (InputLayer)         [(None, 5, 1)]            0         \n",
      "_________________________________________________________________\n",
      "bidirectional_1 (Bidirection (None, 5, 6)              120       \n",
      "_________________________________________________________________\n",
      "time_distributed_2 (TimeDist (None, 5, 1)              7         \n",
      "=================================================================\n",
      "Total params: 127\n",
      "Trainable params: 127\n",
      "Non-trainable params: 0\n",
      "_________________________________________________________________\n",
      "None\n"
     ]
    }
   ],
   "source": [
    "# Bidirectional Many to Many\n",
    "\n",
    "x = np.array([[[1.], [2.], [3.], [4.], [5.]]])\n",
    "y = np.array([[[2.], [3.], [4.], [5.], [6.]]])\n",
    "\n",
    "xInput = Input(batch_shape=(None, 5, 1))\n",
    "xBiLstm = Bidirectional(LSTM(3, return_sequences=True), \\\n",
    "                        merge_mode='concat')(xInput)\n",
    "xOutput = TimeDistributed(Dense(1))(xBiLstm)\n",
    "\n",
    "model = Model(xInput, xOutput)\n",
    "model.compile(loss='mean_squared_error', optimizer='adam')\n",
    "print(model.summary())"
   ]
  },
  {
   "cell_type": "code",
   "execution_count": 117,
   "id": "85b5ec87",
   "metadata": {},
   "outputs": [
    {
     "data": {
      "text/plain": [
       "array([[[2.569471 ],\n",
       "        [3.2538495],\n",
       "        [3.6953685],\n",
       "        [3.7243948],\n",
       "        [3.144647 ]]], dtype=float32)"
      ]
     },
     "execution_count": 117,
     "metadata": {},
     "output_type": "execute_result"
    }
   ],
   "source": [
    "model.fit(x, y, epochs=200, batch_size=1, verbose=0)\n",
    "model.predict(x)"
   ]
  },
  {
   "cell_type": "code",
   "execution_count": 2,
   "id": "4f4c3d4e",
   "metadata": {},
   "outputs": [],
   "source": [
    "# Oneway 2 stage, many-to-one LSTM\n",
    "\n",
    "from keras.models import Model\n",
    "from keras.layers import Input, Dense, LSTM, Bidirectional\n",
    "from keras import backend as K\n",
    "import numpy as np\n",
    "import matplotlib.pyplot as plt\n",
    "\n",
    "def generateX(a, n):\n",
    "    x_train = []\n",
    "    y_train = []\n",
    "    for i in range(len(a)):\n",
    "        x = a[i:(i+n)]\n",
    "        if (i+n)<len(a):\n",
    "            x_train.append(x)\n",
    "            y_train.append(a[i+n])\n",
    "        else:\n",
    "            break\n",
    "    return np.array(x_train), np.array(y_train)"
   ]
  },
  {
   "cell_type": "code",
   "execution_count": 4,
   "id": "06e80031",
   "metadata": {},
   "outputs": [],
   "source": [
    "data = np.sin(2*np.pi*0.03*np.arange(0, 100)) + np.random.random(100)\n",
    "x, y = generateX(data, 10)\n",
    "x = x.reshape(-1, 10, 1)\n",
    "y = y.reshape(-1, 1)\n",
    "\n",
    "x_train = x[:70, :, :]\n",
    "y_train = y[:70, :]\n",
    "x_test = x[70:, :, :]\n",
    "y_test = y[70:, :]"
   ]
  },
  {
   "cell_type": "code",
   "execution_count": 6,
   "id": "7a0689d2",
   "metadata": {},
   "outputs": [
    {
     "name": "stdout",
     "output_type": "stream",
     "text": [
      "Model: \"model\"\n",
      "_________________________________________________________________\n",
      "Layer (type)                 Output Shape              Param #   \n",
      "=================================================================\n",
      "input_1 (InputLayer)         [(None, 10, 1)]           0         \n",
      "_________________________________________________________________\n",
      "lstm (LSTM)                  (None, 10, 10)            480       \n",
      "_________________________________________________________________\n",
      "bidirectional (Bidirectional (None, 20)                1680      \n",
      "_________________________________________________________________\n",
      "dense (Dense)                (None, 1)                 21        \n",
      "=================================================================\n",
      "Total params: 2,181\n",
      "Trainable params: 2,181\n",
      "Non-trainable params: 0\n",
      "_________________________________________________________________\n"
     ]
    }
   ],
   "source": [
    "K.clear_session()\n",
    "xInput = Input(batch_shape=(None, x_train.shape[1], x_train.shape[2]))\n",
    "xLstm_1 = LSTM(10, return_sequences=True)(xInput)\n",
    "xLstm_2 = Bidirectional(LSTM(10))(xLstm_1)\n",
    "xOutput = Dense(1)(xLstm_2)\n",
    "\n",
    "model = Model(xInput, xOutput)\n",
    "model.compile(loss='mse', optimizer='adam')\n",
    "model.summary("
   ]
  },
  {
   "cell_type": "code",
   "execution_count": 7,
   "id": "0372fa6d",
   "metadata": {},
   "outputs": [
    {
     "data": {
      "text/plain": [
       "<keras.callbacks.History at 0x200047878e0>"
      ]
     },
     "execution_count": 7,
     "metadata": {},
     "output_type": "execute_result"
    }
   ],
   "source": [
    "model.fit(x_train, y_train, epochs=500, batch_size=20, verbose=0)"
   ]
  },
  {
   "cell_type": "code",
   "execution_count": 8,
   "id": "c6015add",
   "metadata": {},
   "outputs": [],
   "source": [
    "y_hat = model.predict(x_test, batch_size=1)"
   ]
  },
  {
   "cell_type": "code",
   "execution_count": 10,
   "id": "5a25cb74",
   "metadata": {},
   "outputs": [
    {
     "data": {
      "image/png": "[encoded data removed]",
      "text/plain": [
       "<Figure size 720x432 with 1 Axes>"
      ]
     },
     "metadata": {
      "needs_background": "light"
     },
     "output_type": "display_data"
    }
   ],
   "source": [
    "a_axis=np.arange(0, len(y_train))\n",
    "b_axis=np.arange(len(y_train), len(y_train)+len(y_hat))\n",
    "plt.figure(figsize=(10, 6))\n",
    "plt.plot(a_axis, y_train.reshape(70, ), 'o-')\n",
    "plt.plot(b_axis, y_hat.reshape(20, ), 'o-', color='r', label='Predicted')\n",
    "plt.plot(b_axis, y_test.reshape(20, ), 'o-', color='g', alpha=0.2, label='Actual')\n",
    "plt.legend()\n",
    "plt.show()"
   ]
  },
  {
   "cell_type": "code",
   "execution_count": 22,
   "id": "cf5608d2",
   "metadata": {},
   "outputs": [],
   "source": [
    "from tensorflow.keras.optimizers import Adam\n",
    "\n",
    "def createTrainData(xData, step):\n",
    "    m = np.arange(len(xData)-step)\n",
    "    x, y = [], []\n",
    "    for i in m:\n",
    "        a = xData[i:(i+step)]\n",
    "        x.append(a)\n",
    "    xBatch = np.reshape(np.array(x), (len(m), step, 1))\n",
    "    \n",
    "    for i in m+1:\n",
    "        a = xData[i:(i+step)]\n",
    "        y.append(a[-1])\n",
    "    yBatch = np.reshape(np.array(y), (len(m), 1))\n",
    "    return xBatch, yBatch"
   ]
  },
  {
   "cell_type": "code",
   "execution_count": 23,
   "id": "661ee616",
   "metadata": {},
   "outputs": [],
   "source": [
    "data = np.sin(2*np.pi*0.03*np.arange(1001)) + np.random.random(1001)\n",
    "nInput = 1\n",
    "nOutput = 1\n",
    "nStep = 20\n",
    "nHidden = 50\n",
    "\n",
    "x, y = createTrainData(data, nStep)"
   ]
  },
  {
   "cell_type": "code",
   "execution_count": 24,
   "id": "b80348a7",
   "metadata": {},
   "outputs": [],
   "source": [
    "xInput = Input(batch_shape=(None, nStep, 1))\n",
    "xLstm = LSTM(nHidden)(xInput)\n",
    "xOutput = Dense(nOutput)(xLstm)\n",
    "\n",
    "model = Model(xInput, xOutput)\n",
    "model.compile(loss='mse', optimizer = Adam(learning_rate=0.01))"
   ]
  },
  {
   "cell_type": "code",
   "execution_count": 25,
   "id": "30afa45c",
   "metadata": {},
   "outputs": [],
   "source": [
    "h = model.fit(x, y, epochs=100, batch_size=100, shuffle=True, verbose=0)\n",
    "\n",
    "nFuture = 20\n",
    "if len(data)>100:\n",
    "    lastData = np.copy(data[-100:])\n",
    "else:\n",
    "    lastData = np.copy(data)\n",
    "\n",
    "dx = np.copy(lastData)\n",
    "estimate = [dx[-1]]\n",
    "for i in range(nFuture):\n",
    "    px = dx[-nStep:].reshape(1, nStep, 1)\n",
    "    y_hat = model.predict(px)[0][0]\n",
    "    estimate.append(y_hat)\n",
    "    dx = np.insert(dx, len(dx), y_hat)"
   ]
  },
  {
   "cell_type": "code",
   "execution_count": 26,
   "id": "ddc4c964",
   "metadata": {},
   "outputs": [
    {
     "data": {
      "image/png": "[encoded data removed]",
      "text/plain": [
       "<Figure size 576x288 with 1 Axes>"
      ]
     },
     "metadata": {
      "needs_background": "light"
     },
     "output_type": "display_data"
    }
   ],
   "source": [
    "plt.figure(figsize=(8, 4))\n",
    "plt.plot(h.history['loss'], color='r')\n",
    "plt.title('Loss History')\n",
    "plt.xlabel('epoch')\n",
    "plt.ylabel('loss')\n",
    "plt.show()"
   ]
  },
  {
   "cell_type": "code",
   "execution_count": 28,
   "id": "341cecf6",
   "metadata": {
    "scrolled": false
   },
   "outputs": [
    {
     "data": {
      "image/png": "[encoded data removed]",
      "text/plain": [
       "<Figure size 720x432 with 1 Axes>"
      ]
     },
     "metadata": {
      "needs_background": "light"
     },
     "output_type": "display_data"
    }
   ],
   "source": [
    "ax1 = np.arange(1, len(lastData)+1)\n",
    "ax2 = np.arange(len(lastData), len(lastData)+len(estimate))\n",
    "plt.figure(figsize=(10, 6))\n",
    "plt.plot(ax1, lastData, 'o-', color='b', markersize=3, \n",
    "         label='TimeSeries', linewidth=1)\n",
    "plt.plot(ax2, estimate, 'o-', color='r', markersize=3,\n",
    "         label = 'Estimate')\n",
    "plt.axvline(x=ax1[-1], linestyle='dashed', linewidth=1)\n",
    "plt.legend()\n",
    "plt.show()"
   ]
  },
  {
   "cell_type": "code",
   "execution_count": null,
   "id": "ced2d78b",
   "metadata": {},
   "outputs": [],
   "source": []
  }
 ],
 "metadata": {
  "kernelspec": {
   "display_name": "Python 3 (ipykernel)",
   "language": "python",
   "name": "python3"
  },
  "language_info": {
   "codemirror_mode": {
    "name": "ipython",
    "version": 3
   },
   "file_extension": ".py",
   "mimetype": "text/x-python",
   "name": "python",
   "nbconvert_exporter": "python",
   "pygments_lexer": "ipython3",
   "version": "3.8.11"
  }
 },
 "nbformat": 4,
 "nbformat_minor": 5
}
