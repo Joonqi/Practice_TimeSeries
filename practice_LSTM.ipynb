{
 "cells": [
  {
   "cell_type": "code",
   "execution_count": 3,
   "id": "4aafe796",
   "metadata": {},
   "outputs": [
    {
     "name": "stdout",
     "output_type": "stream",
     "text": [
      "(1, 5, 1) (1, 1)\n"
     ]
    }
   ],
   "source": [
    "# Many to One LSTM\n",
    "\n",
    "from keras.models import Model\n",
    "from keras.layers import Input, Dense, LSTM\n",
    "import numpy as np\n",
    "\n",
    "x = np.array([[[1.], [2.], [3.], [4.], [5.]]])\n",
    "y = np.array([[6.]])\n",
    "print(x.shape, y.shape)"
   ]
  },
  {
   "cell_type": "code",
   "execution_count": 19,
   "id": "2129cd29",
   "metadata": {},
   "outputs": [
    {
     "name": "stdout",
     "output_type": "stream",
     "text": [
      "Model: \"model_2\"\n",
      "_________________________________________________________________\n",
      "Layer (type)                 Output Shape              Param #   \n",
      "=================================================================\n",
      "input_4 (InputLayer)         [(None, 5, 1)]            0         \n",
      "_________________________________________________________________\n",
      "lstm_3 (LSTM)                (None, 3)                 60        \n",
      "_________________________________________________________________\n",
      "dense_3 (Dense)              (None, 1)                 4         \n",
      "=================================================================\n",
      "Total params: 64\n",
      "Trainable params: 64\n",
      "Non-trainable params: 0\n",
      "_________________________________________________________________\n",
      "None\n"
     ]
    }
   ],
   "source": [
    "xInput = Input(batch_shape=(None, 5, 1))\n",
    "xLstm = LSTM(3)(xInput)\n",
    "xOutput = Dense(1)(xLstm)\n",
    "\n",
    "model = Model(xInput, xOutput)\n",
    "model.compile(loss='mean_squared_error', optimizer='adam')\n",
    "print(model.summary())"
   ]
  },
  {
   "cell_type": "code",
   "execution_count": 100,
   "id": "6a7aa95f",
   "metadata": {},
   "outputs": [
    {
     "data": {
      "text/plain": [
       "array([[5.9999824]], dtype=float32)"
      ]
     },
     "execution_count": 100,
     "metadata": {},
     "output_type": "execute_result"
    }
   ],
   "source": [
    "model.fit(x, y, epochs=50, batch_size=1, verbose=0)\n",
    "model.predict(x, batch_size=1)"
   ]
  },
  {
   "cell_type": "code",
   "execution_count": 101,
   "id": "b765a672",
   "metadata": {},
   "outputs": [
    {
     "name": "stdout",
     "output_type": "stream",
     "text": [
      "(1, 5, 1) (1, 5, 1)\n"
     ]
    }
   ],
   "source": [
    "# Many to Many LSTM\n",
    "\n",
    "from keras.layers import TimeDistributed\n",
    "\n",
    "x = np.array([[[1.], [2.], [3.], [4.], [5.]]])\n",
    "y = np.array([[[2.], [3.], [4.], [5.], [6.]]])\n",
    "\n",
    "print(x.shape, y.shape)"
   ]
  },
  {
   "cell_type": "code",
   "execution_count": 103,
   "id": "a13535ab",
   "metadata": {},
   "outputs": [
    {
     "name": "stdout",
     "output_type": "stream",
     "text": [
      "Model: \"model_4\"\n",
      "_________________________________________________________________\n",
      "Layer (type)                 Output Shape              Param #   \n",
      "=================================================================\n",
      "input_6 (InputLayer)         [(None, 5, 1)]            0         \n",
      "_________________________________________________________________\n",
      "lstm_5 (LSTM)                (None, 5, 3)              60        \n",
      "_________________________________________________________________\n",
      "time_distributed_1 (TimeDist (None, 5, 1)              4         \n",
      "=================================================================\n",
      "Total params: 64\n",
      "Trainable params: 64\n",
      "Non-trainable params: 0\n",
      "_________________________________________________________________\n",
      "None\n"
     ]
    }
   ],
   "source": [
    "xInput = Input(batch_shape=(None, 5, 1))\n",
    "xLstm = LSTM(3, return_sequences=True)(xInput)\n",
    "xOutput = TimeDistributed(Dense(1))(xLstm)\n",
    "\n",
    "model = Model(xInput, xOutput)\n",
    "model.compile(loss='mean_squared_error', optimizer='adam')\n",
    "print(model.summary())"
   ]
  },
  {
   "cell_type": "code",
   "execution_count": 112,
   "id": "83832d55",
   "metadata": {},
   "outputs": [
    {
     "data": {
      "text/plain": [
       "array([[[1.8879142],\n",
       "        [3.2692983],\n",
       "        [3.869036 ],\n",
       "        [4.0163   ],\n",
       "        [4.056901 ]]], dtype=float32)"
      ]
     },
     "execution_count": 112,
     "metadata": {},
     "output_type": "execute_result"
    }
   ],
   "source": [
    "model.fit(x, y, epochs=100, batch_size=1, verbose=0)\n",
    "model.predict(x, batch_size=1)"
   ]
  },
  {
   "cell_type": "code",
   "execution_count": 113,
   "id": "ecd7541f",
   "metadata": {},
   "outputs": [
    {
     "name": "stdout",
     "output_type": "stream",
     "text": [
      "Model: \"model_5\"\n",
      "_________________________________________________________________\n",
      "Layer (type)                 Output Shape              Param #   \n",
      "=================================================================\n",
      "input_7 (InputLayer)         [(None, 5, 1)]            0         \n",
      "_________________________________________________________________\n",
      "bidirectional (Bidirectional (None, 6)                 120       \n",
      "_________________________________________________________________\n",
      "dense_6 (Dense)              (None, 1)                 7         \n",
      "=================================================================\n",
      "Total params: 127\n",
      "Trainable params: 127\n",
      "Non-trainable params: 0\n",
      "_________________________________________________________________\n",
      "None\n"
     ]
    }
   ],
   "source": [
    "# Bidirectional LSTM\n",
    "\n",
    "from keras.layers import Bidirectional\n",
    "\n",
    "x = np.array([[[1.], [2.], [3.], [4.], [5.]]])\n",
    "y = np.array([[6.]])\n",
    "\n",
    "xInput = Input(batch_shape=(None, 5, 1))\n",
    "xBiLstm = Bidirectional(LSTM(3), merge_mode = 'concat')(xInput)\n",
    "xOutput = Dense(1)(xBiLstm)\n",
    "\n",
    "model = Model(xInput, xOutput)\n",
    "model.compile(loss='mean_squared_error', optimizer='adam')\n",
    "print(model.summary())"
   ]
  },
  {
   "cell_type": "code",
   "execution_count": 114,
   "id": "4e5de0f3",
   "metadata": {},
   "outputs": [
    {
     "data": {
      "text/plain": [
       "array([[0.4388827]], dtype=float32)"
      ]
     },
     "execution_count": 114,
     "metadata": {},
     "output_type": "execute_result"
    }
   ],
   "source": [
    "model.fit(x, y, epochs=100, batch_size=1, verbose=0)\n",
    "model.predict(x)"
   ]
  },
  {
   "cell_type": "code",
   "execution_count": 115,
   "id": "b6e36b95",
   "metadata": {},
   "outputs": [
    {
     "name": "stdout",
     "output_type": "stream",
     "text": [
      "Model: \"model_6\"\n",
      "_________________________________________________________________\n",
      "Layer (type)                 Output Shape              Param #   \n",
      "=================================================================\n",
      "input_8 (InputLayer)         [(None, 5, 1)]            0         \n",
      "_________________________________________________________________\n",
      "bidirectional_1 (Bidirection (None, 5, 6)              120       \n",
      "_________________________________________________________________\n",
      "time_distributed_2 (TimeDist (None, 5, 1)              7         \n",
      "=================================================================\n",
      "Total params: 127\n",
      "Trainable params: 127\n",
      "Non-trainable params: 0\n",
      "_________________________________________________________________\n",
      "None\n"
     ]
    }
   ],
   "source": [
    "# Bidirectional Many to Many\n",
    "\n",
    "x = np.array([[[1.], [2.], [3.], [4.], [5.]]])\n",
    "y = np.array([[[2.], [3.], [4.], [5.], [6.]]])\n",
    "\n",
    "xInput = Input(batch_shape=(None, 5, 1))\n",
    "xBiLstm = Bidirectional(LSTM(3, return_sequences=True), \\\n",
    "                        merge_mode='concat')(xInput)\n",
    "xOutput = TimeDistributed(Dense(1))(xBiLstm)\n",
    "\n",
    "model = Model(xInput, xOutput)\n",
    "model.compile(loss='mean_squared_error', optimizer='adam')\n",
    "print(model.summary())"
   ]
  },
  {
   "cell_type": "code",
   "execution_count": 117,
   "id": "85b5ec87",
   "metadata": {},
   "outputs": [
    {
     "data": {
      "text/plain": [
       "array([[[2.569471 ],\n",
       "        [3.2538495],\n",
       "        [3.6953685],\n",
       "        [3.7243948],\n",
       "        [3.144647 ]]], dtype=float32)"
      ]
     },
     "execution_count": 117,
     "metadata": {},
     "output_type": "execute_result"
    }
   ],
   "source": [
    "model.fit(x, y, epochs=200, batch_size=1, verbose=0)\n",
    "model.predict(x)"
   ]
  },
  {
   "cell_type": "code",
   "execution_count": null,
   "id": "4f4c3d4e",
   "metadata": {},
   "outputs": [],
   "source": []
  }
 ],
 "metadata": {
  "kernelspec": {
   "display_name": "Python 3 (ipykernel)",
   "language": "python",
   "name": "python3"
  },
  "language_info": {
   "codemirror_mode": {
    "name": "ipython",
    "version": 3
   },
   "file_extension": ".py",
   "mimetype": "text/x-python",
   "name": "python",
   "nbconvert_exporter": "python",
   "pygments_lexer": "ipython3",
   "version": "3.8.11"
  }
 },
 "nbformat": 4,
 "nbformat_minor": 5
}
